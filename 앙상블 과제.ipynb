{
 "cells": [
  {
   "attachments": {},
   "cell_type": "markdown",
   "metadata": {},
   "source": [
    "1. 데이터 생성 및 데이터 분류 (학습 70%, 테스트30%)"
   ]
  },
  {
   "cell_type": "code",
   "execution_count": 20,
   "metadata": {},
   "outputs": [],
   "source": [
    "from sklearn.datasets import load_iris\n",
    "iris = load_iris()\n",
    "X, y = iris.data, iris.target\n",
    "\n",
    "from sklearn.model_selection import train_test_split\n",
    "X_train,X_test,y_train,y_test = train_test_split(X, y, test_size=0.3)"
   ]
  },
  {
   "attachments": {},
   "cell_type": "markdown",
   "metadata": {},
   "source": [
    "2. 데이터 표준화"
   ]
  },
  {
   "cell_type": "code",
   "execution_count": 21,
   "metadata": {},
   "outputs": [],
   "source": [
    "from sklearn.preprocessing import StandardScaler\n",
    "scaler = StandardScaler()\n",
    "X_train_scaled = scaler.fit_transform(X_train)\n",
    "X_test_scaled = scaler.transform(X_test)"
   ]
  },
  {
   "attachments": {},
   "cell_type": "markdown",
   "metadata": {},
   "source": [
    "3. 모델 생성"
   ]
  },
  {
   "cell_type": "code",
   "execution_count": 22,
   "metadata": {},
   "outputs": [],
   "source": [
    "from sklearn.neighbors import KNeighborsClassifier\n",
    "knn = KNeighborsClassifier(n_neighbors=5)\n",
    "\n",
    "from sklearn.linear_model import LogisticRegression\n",
    "logi = LogisticRegression()\n",
    "\n",
    "from sklearn.tree import DecisionTreeClassifier\n",
    "gini_tree = DecisionTreeClassifier(max_depth=4,criterion=\"gini\")\n",
    "ent_tree = DecisionTreeClassifier(max_depth=4,criterion=\"entropy\")\n",
    "\n",
    "from sklearn.svm import SVC\n",
    "svm_lin =SVC(probability=True)"
   ]
  },
  {
   "attachments": {},
   "cell_type": "markdown",
   "metadata": {},
   "source": [
    "4. 분류기 별 정확도, 혼동행렬 출력"
   ]
  },
  {
   "cell_type": "code",
   "execution_count": 23,
   "metadata": {},
   "outputs": [
    {
     "name": "stdout",
     "output_type": "stream",
     "text": [
      "KNeighborsClassifier Acc: 0.9556\n",
      "[[13  0  0]\n",
      " [ 0 12  1]\n",
      " [ 0  1 18]]\n",
      "\n",
      "LogisticRegression Acc: 1.0000\n",
      "[[13  0  0]\n",
      " [ 0 13  0]\n",
      " [ 0  0 19]]\n",
      "\n",
      "DecisionTreeClassifier Acc: 0.9778\n",
      "[[13  0  0]\n",
      " [ 0 13  0]\n",
      " [ 0  1 18]]\n",
      "\n",
      "DecisionTreeClassifier Acc: 0.9556\n",
      "[[13  0  0]\n",
      " [ 0 13  0]\n",
      " [ 0  2 17]]\n",
      "\n",
      "SVC Acc: 1.0000\n",
      "[[13  0  0]\n",
      " [ 0 13  0]\n",
      " [ 0  0 19]]\n",
      "\n"
     ]
    }
   ],
   "source": [
    "from sklearn.metrics import accuracy_score\n",
    "from sklearn.metrics import confusion_matrix\n",
    "\n",
    "classifiers = [knn, logi, gini_tree, ent_tree,svm_lin]\n",
    "\n",
    "for classifier in classifiers:\n",
    "    classifier.fit(X_train_scaled, y_train)\n",
    "    pred = classifier.predict(X_test_scaled)\n",
    "    class_name = classifier.__class__.__name__\n",
    "    print('{} Acc: {:.4f}'.format(class_name,accuracy_score(y_test, pred)))\n",
    "    print(confusion_matrix(y_test,pred))\n",
    "    print()\n"
   ]
  },
  {
   "attachments": {},
   "cell_type": "markdown",
   "metadata": {},
   "source": [
    "5. Ensemble votingClassifier 생성, fit, 예측"
   ]
  },
  {
   "cell_type": "code",
   "execution_count": 24,
   "metadata": {},
   "outputs": [],
   "source": [
    "from sklearn.ensemble import VotingClassifier\n",
    "voting_model = VotingClassifier(estimators=[('Logi', logi), \n",
    "                                            ('KNN', knn),\n",
    "                                            ('svm',svm_lin),\n",
    "                                            ('gini',gini_tree),\n",
    "                                            ('ent',ent_tree)], \n",
    "                                voting='soft')\n",
    "\n",
    "voting_model.fit(X_train_scaled, y_train)\n",
    "pred = voting_model.predict(X_test_scaled)"
   ]
  },
  {
   "attachments": {},
   "cell_type": "markdown",
   "metadata": {},
   "source": [
    "6. Ensemble 분류기 정확도 및 혼동행렬 출력"
   ]
  },
  {
   "cell_type": "code",
   "execution_count": 25,
   "metadata": {},
   "outputs": [
    {
     "name": "stdout",
     "output_type": "stream",
     "text": [
      "앙상블 분류기의 정확도: 0.9778\n",
      "[[13  0  0]\n",
      " [ 0 13  0]\n",
      " [ 0  1 18]]\n"
     ]
    }
   ],
   "source": [
    "print('앙상블 분류기의 정확도: {:.4f}'.format(accuracy_score(y_test, pred)))\n",
    "print(confusion_matrix(y_test,pred))"
   ]
  }
 ],
 "metadata": {
  "kernelspec": {
   "display_name": "Python 3",
   "language": "python",
   "name": "python3"
  },
  "language_info": {
   "codemirror_mode": {
    "name": "ipython",
    "version": 3
   },
   "file_extension": ".py",
   "mimetype": "text/x-python",
   "name": "python",
   "nbconvert_exporter": "python",
   "pygments_lexer": "ipython3",
   "version": "3.11.2"
  },
  "orig_nbformat": 4
 },
 "nbformat": 4,
 "nbformat_minor": 2
}
